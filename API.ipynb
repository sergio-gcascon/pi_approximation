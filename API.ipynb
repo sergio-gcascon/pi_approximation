{
 "cells": [
  {
   "cell_type": "code",
   "execution_count": 2,
   "metadata": {},
   "outputs": [],
   "source": [
    "import numpy as np\n",
    "import matplotlib.pyplot as plt\n",
    "from matplotlib.animation import FuncAnimation\n",
    "from matplotlib.patches import Rectangle\n",
    "from IPython.display import HTML"
   ]
  },
  {
   "cell_type": "code",
   "execution_count": 110,
   "metadata": {},
   "outputs": [],
   "source": [
    "# Dimensiones del tablero\n",
    "anchura_superficie = 80\n",
    "altura_superficie = 40\n",
    "\n",
    "# Establecemos unos valores predeterminados para 'a' y el centro de las figuras\n",
    "a_pred = altura_superficie / 2\n",
    "c_circ_pred = (3 * (anchura_superficie / 4), altura_superficie / 2)\n",
    "c_cuad_pred = (anchura_superficie / 4, altura_superficie / 2)"
   ]
  },
  {
   "cell_type": "code",
   "execution_count": 111,
   "metadata": {},
   "outputs": [],
   "source": [
    "# Definimos el generador de números pseudoaleatorios\n",
    "rng = np.random.default_rng()"
   ]
  },
  {
   "cell_type": "code",
   "execution_count": 112,
   "metadata": {},
   "outputs": [],
   "source": [
    "def generar_puntos(numero_muestras, rng):\n",
    "    \"\"\"Genera un número determinado de puntos aleatorios.\n",
    "\n",
    "    Esta función genera puntos con coordenadas x e y aleatorias.\n",
    "    Los valores de X son numeros reales entre 0 y 80 (la anchura de la superficie).\n",
    "    Los valores de Y son números reales entre 0 y 40 (la altura de la superficie).\n",
    "    Finalmente, guarda todos los puntos generados en un array\n",
    "\n",
    "    Args:\n",
    "        numero_muestras (int) : Cantidad de puntos a generar.\n",
    "        rng (Generator) : Generador de números pseudoaleatorios de numpy.\n",
    "\n",
    "    Returns:\n",
    "        Un array de dimensiones (numero_muestras, 2). Cada fila es una coordenada (x,y)\n",
    "        de números de coma flotante\n",
    "    \"\"\"\n",
    "    \n",
    "    return np.array([(rng.uniform(0, anchura_superficie), rng.uniform(0, altura_superficie)) for n in range(numero_muestras)])"
   ]
  },
  {
   "cell_type": "code",
   "execution_count": 113,
   "metadata": {},
   "outputs": [],
   "source": [
    "def dentro_circulo(coordenadas, centro = c_circ_pred, a = a_pred):\n",
    "    \"\"\"Determina si unas coordenadas se encuentran dentro del\n",
    "    área del círculo.\n",
    "\n",
    "    Esta función analiza las coordenadas X e Y de un punto y el\n",
    "    área del círculo en base a sus dimensiones y su posición en la\n",
    "    superficie del experimento.\n",
    "\n",
    "    Args:\n",
    "        coordenadas ([float, float]) : coordenadas del punto a analizar.\n",
    "        centro (tuple(float, float), Default: (60.0, 20.0)): coordenadas de la posición del centro del círculo\n",
    "        a (float, Default: 20.0) : tamaño del radio del círculo\n",
    "\n",
    "    Returns:\n",
    "        Valor booleano que determina si el punto se encuentra dentro\n",
    "        del área del círculo\n",
    "    \"\"\"\n",
    "    x, y = coordenadas\n",
    "\n",
    "    x_circulo, y_circulo = centro\n",
    "    distancia_a_coordenada = (x - x_circulo)**2 + (y - y_circulo)**2\n",
    "\n",
    "    return (distancia_a_coordenada < a**2)"
   ]
  },
  {
   "cell_type": "code",
   "execution_count": 114,
   "metadata": {},
   "outputs": [],
   "source": [
    "def dentro_cuadrado(coordenadas, centro = c_cuad_pred, a = a_pred):\n",
    "    \"\"\"Determina si unas coordenadas se encuentran dentro del\n",
    "    área del cuadrado.\n",
    "\n",
    "    Esta función analiza las coordenadas X e Y de un punto y el\n",
    "    área del cuadrado en base a sus dimensiones y su posición en la\n",
    "    superficie del experimento.\n",
    "\n",
    "    Args:\n",
    "        coordenadas ([float, float]) : coordenadas del punto a analizar.\n",
    "        centro (tuple(float, float), Default: (20.0, 20.0)): coordenadas de la posición del centro del cuadrado\n",
    "        a (float, Default: 20.0) : tamaño del lado del cuadrado\n",
    "\n",
    "    Returns:\n",
    "        Valor booleano que determina si el punto se encuentra dentro\n",
    "        del área del cuadrado\n",
    "    \"\"\"\n",
    "    x, y = coordenadas\n",
    "\n",
    "    x_cuadrado, y_cuadrado = centro\n",
    "    x_lim_inf = x_cuadrado - (a / 2)\n",
    "    x_lim_sup = x_cuadrado + (a / 2)\n",
    "    y_lim_inf = y_cuadrado - (a / 2)\n",
    "    y_lim_sup = y_cuadrado + (a / 2)\n",
    "\n",
    "    return (x_lim_inf < x < x_lim_sup) and (y_lim_inf < y < y_lim_sup)"
   ]
  },
  {
   "cell_type": "code",
   "execution_count": 115,
   "metadata": {},
   "outputs": [],
   "source": [
    "def realizar_simulacion(puntos, c_circ = c_circ_pred, c_cuad = c_cuad_pred, a = a_pred):\n",
    "    \"\"\"Determina en qué figura ha caído cada uno de los puntos generados\n",
    "\n",
    "    Esta función obtiene el resultado de comprobar en dónde ha caído cada\n",
    "    uno de los puntos generados. Para cada figura, guarda un 1 si el punto\n",
    "    ha caído dentro, un 0 en caso contrario.\n",
    "\n",
    "    Args:\n",
    "        puntos (ndarray(dtype=float, ndim=2)) : array de puntos generados\n",
    "        c_circ (tuple(float, float), Default: (60.0, 20.0)): coordenadas de la posición del centro del círculo\n",
    "        c_cuad (tuple(float, float), Default: (20.0, 20.0)): coordenadas de la posición del centro del cuadrado\n",
    "        a (float, Default: 20.0) : tamaño de las figuras\n",
    "\n",
    "    Returns:\n",
    "        Array de números enteros de dos dimensiones. El primer número de cada fila (0,1) determina si el punto\n",
    "        está dentro del círculo. El segundo número (0,1), si está dentro del cuadrado.\n",
    "    \"\"\"    \n",
    "    return np.array([(int(dentro_circulo(n, c_circ, a)), int(dentro_cuadrado(n, c_cuad, a))) for n in puntos])\n"
   ]
  },
  {
   "cell_type": "code",
   "execution_count": 118,
   "metadata": {},
   "outputs": [],
   "source": [
    "def repetir_experimento(num_muestras, num_reps, rng, c_circ = c_circ_pred, c_cuad = c_cuad_pred, a = a_pred):\n",
    "    \"\"\"Repite la simulación de una cantidad de puntos y guarda los resultados\n",
    "\n",
    "    Esta función genera todos los puntos aleatorios necesarios para el experimento.\n",
    "    Después, realiza tantas simulaciones como indique num_reps utilizando num_muestras\n",
    "    en cada una. Finalmente, guarda todos los resultados por separado en un array.\n",
    "\n",
    "    Args:\n",
    "        num_muestras (int) : cantidad de puntos por simulación\n",
    "        num_reps (int) : cantidad de veces a repetir el experimento\n",
    "        rng (Generator) : generador de números pseudoaleatorios de numpy\n",
    "        c_circ (tuple(float, float), Default: (60.0, 20.0)): coordenadas de la posición del centro del círculo\n",
    "        c_cuad (tuple(float, float), Default: (20.0, 20.0)): coordenadas de la posición del centro del cuadrado\n",
    "        a (float, Default: 20.0) : tamaño de las figuras\n",
    "\n",
    "    Returns:\n",
    "        Array de números enteros de dos dimensiones. \n",
    "        El primer número de cada fila son los puntos que han caído en el círculo en cada experimento.\n",
    "        El segundo número de cada fila son los puntos que han caído en el cuadrado en cada experimento.\n",
    "    \"\"\"    \n",
    "    # Generamos suficientes muestras para todas las repeticiones\n",
    "    puntos_generados = generar_puntos(num_muestras * num_reps, rng)\n",
    "\n",
    "    # Realizamos num_reps simulaciones, cada simulación con n_muestras\n",
    "    resultados = np.array([realizar_simulacion(puntos_generados[n*num_muestras:(n+1)*num_muestras], c_circ, c_cuad, a) for n in range(num_reps)])\n",
    "\n",
    "    # Para cada resultado del experimento, sumamos la cantidad de puntos en cada figura\n",
    "    suma_puntos = np.array([[resultados[n][:,0].sum(), resultados[n][:,1].sum()] for n in range(num_reps)])\n",
    "\n",
    "    return suma_puntos"
   ]
  },
  {
   "cell_type": "code",
   "execution_count": 125,
   "metadata": {},
   "outputs": [],
   "source": [
    "def aproximar_pi_separado (num_muestras, num_reps, rng, c_circ = c_circ_pred, c_cuad = c_cuad_pred, a = a_pred):\n",
    "    \"\"\"Aproxima PI para cada experimento realizado\n",
    "\n",
    "    Esta función obtiene los resultados de los experimentos por separado\n",
    "    y realiza la aproximación de PI para cada uno de ellos\n",
    "\n",
    "    Args:\n",
    "        num_muestras (int) : cantidad de puntos por simulación\n",
    "        num_reps (int) : cantidad de veces a repetir el experimento\n",
    "        rng (Generator) : generador de números pseudoaleatorios de numpy\n",
    "        c_circ (tuple(float, float), Default: (60.0, 20.0)): coordenadas de la posición del centro del círculo\n",
    "        c_cuad (tuple(float, float), Default: (20.0, 20.0)): coordenadas de la posición del centro del cuadrado\n",
    "        a (float, Default: 20.0) : tamaño de las figuras\n",
    "\n",
    "    Returns:\n",
    "        Array de floats que contienen la aproximación obtenida en cada experimento\n",
    "    \"\"\" \n",
    "    puntos_resultado = repetir_experimento(num_muestras, num_reps, rng, c_circ, c_cuad, a)\n",
    "    aprox_pi = np.zeros(num_reps)\n",
    "\n",
    "    for n in range(num_reps): # Para cada experimento\n",
    "\n",
    "        if puntos_resultado[n][1] == 0: # Si no han caído puntos en el cuadrado, evitamos la división entre cero\n",
    "            aprox_pi[n] = 0\n",
    "        else:\n",
    "            aprox_pi[n] = puntos_resultado[n][0]/puntos_resultado[n][1]\n",
    "\n",
    "    return aprox_pi\n"
   ]
  },
  {
   "cell_type": "code",
   "execution_count": 126,
   "metadata": {},
   "outputs": [],
   "source": [
    "def aproximar_pi_junto (num_muestras, num_reps, rng, c_circ = c_circ_pred, c_cuad = c_cuad_pred, a = a_pred):\n",
    "    \"\"\"Aproxima PI para el total de los experimentos realizados\n",
    "\n",
    "    Esta función obtiene el resultados de todos los experimentos\n",
    "    y realiza la aproximación de PI de los experimentos en conjunto\n",
    "\n",
    "    Args:\n",
    "        num_muestras (int) : cantidad de puntos por simulación\n",
    "        num_reps (int) : cantidad de veces a repetir el experimento\n",
    "        rng (Generator) : generador de números pseudoaleatorios de numpy\n",
    "        c_circ (tuple(float, float), Default: (60.0, 20.0)): coordenadas de la posición del centro del círculo\n",
    "        c_cuad (tuple(float, float), Default: (20.0, 20.0)): coordenadas de la posición del centro del cuadrado\n",
    "        a (float, Default: 20.0) : tamaño de las figuras\n",
    "\n",
    "    Returns:\n",
    "        Float con la aproximación de PI del total de experimentos realizados\n",
    "    \"\"\" \n",
    "    puntos_resultado = repetir_experimento(num_muestras, num_reps, rng, c_circ, c_cuad, a)\n",
    "    puntos_circulo  = puntos_resultado[:,0].sum()\n",
    "    puntos_cuadrado = puntos_resultado[:,1].sum()\n",
    "\n",
    "    if puntos_cuadrado == 0:\n",
    "        return 0\n",
    "    else:\n",
    "        return puntos_circulo/puntos_cuadrado"
   ]
  },
  {
   "cell_type": "code",
   "execution_count": 127,
   "metadata": {},
   "outputs": [
    {
     "name": "stdout",
     "output_type": "stream",
     "text": [
      "Las aproximaciones de Pi son 3.1464461209317967 (media por separado) y 3.1435450327947527 (aproximación en conjunto)\n"
     ]
    }
   ],
   "source": [
    "# Generamos las coordenadas\n",
    "N_muestras = int(1e4)\n",
    "N_reps = 100\n",
    "\n",
    "rng = np.random.default_rng(23)\n",
    "aprox_separados = aproximar_pi_separado (N_muestras, N_reps, rng).mean()\n",
    "\n",
    "rng = np.random.default_rng(23)\n",
    "aprox_juntos = aproximar_pi_junto(N_muestras, N_reps, rng)\n",
    "\n",
    "print(f\"Las aproximaciones de Pi son {aprox_separados} (media por separado) y {aprox_juntos} (aproximación en conjunto)\")"
   ]
  }
 ],
 "metadata": {
  "kernelspec": {
   "display_name": "Python 3",
   "language": "python",
   "name": "python3"
  },
  "language_info": {
   "codemirror_mode": {
    "name": "ipython",
    "version": 3
   },
   "file_extension": ".py",
   "mimetype": "text/x-python",
   "name": "python",
   "nbconvert_exporter": "python",
   "pygments_lexer": "ipython3",
   "version": "3.12.0"
  }
 },
 "nbformat": 4,
 "nbformat_minor": 2
}
