{
 "cells": [
  {
   "cell_type": "markdown",
   "id": "0275aee6-8939-49d3-be0d-c90b6d7ac417",
   "metadata": {},
   "source": [
    "# Estimación del número Pi\n",
    "## Siguiendo el método Monte Carlo\n",
    "### Situación\n",
    "Nos encontramos ante una superficie de *40 cm X 80 cm* en la que se sitúan una sección cuadrada de lado _a_ y una sección circular de radio _a_."
   ]
  },
  {
   "cell_type": "markdown",
   "id": "5015cf30",
   "metadata": {},
   "source": [
    "### Parámetros relevantes del experimento:\n",
    "- Dimensiones de la superficie: _40cm X 80cm_.\n",
    "- Tamaño de las figuras, determinado por _a_.\n",
    "- Posición de cada punto sobre la superficie: _coordenadas x e y_."
   ]
  },
  {
   "cell_type": "code",
   "execution_count": 1,
   "id": "f9c99859",
   "metadata": {},
   "outputs": [],
   "source": [
    "# Dimensiones del tablero\n",
    "table_width = 80\n",
    "table_height = 40\n",
    "\n",
    "# a - radio del círculo y lado del cuadrado\n",
    "a = table_height / 2\n",
    "\n",
    "# Determinamos la posicion de las figuras en el tablero\n",
    "\n",
    "# Circulo centrado en el tercer cuarto de la anchura de la superficie\n",
    "circle_centre = (3 * (table_width / 4), table_height / 2)\n",
    "\n",
    "# Cuadrado centrado en el primer cuarto de la anchura de la superficie\n",
    "square_centre = (table_width / 4, table_height / 2)"
   ]
  },
  {
   "cell_type": "markdown",
   "id": "80a6e852",
   "metadata": {},
   "source": [
    "### Identificar las distribuciones de probabilidad de cada parámetro\n",
    "El parámetro que se ve afectado por la aleatoriedad en este experimento es la posición en la que cae el punto sobre la superficie. Es decir, las _coordenadas x e y_.\n",
    "\n",
    "Si tomamos las coordenadas como números de coma flotante, podemos interpretar que se tratan de **variables continuas**.\n",
    "\n",
    "Puesto que, tanto para _x_ como para _y_ todos los valores dentro del rango posible son equiprobables, nos hayamos ante un caso de **distribución uniforme**.\n",
    "- El rango que abarca la variable _x_ es un valor continuo en el intervalo de _0cm a 80cm_.\n",
    "- El rango que abarca la variable _y_ es un valor continuo en el intervalo de _0cm a 40cm_.\n"
   ]
  },
  {
   "cell_type": "markdown",
   "id": "57d608f5",
   "metadata": {},
   "source": [
    "### Ahora, debemos obtener muestras aleatorias de las distribuciones.\n",
    "Es decir, debemos obtener una cantidad significante de puntos con coordenadas _(x, y)_."
   ]
  },
  {
   "cell_type": "code",
   "execution_count": 2,
   "id": "c5c79a57",
   "metadata": {},
   "outputs": [],
   "source": [
    "import numpy as np"
   ]
  },
  {
   "cell_type": "code",
   "execution_count": 3,
   "id": "7c0baaf7",
   "metadata": {},
   "outputs": [],
   "source": [
    "# Definimos la cantidad de muestras que queremos obtener\n",
    "N_muestras = int(1e6)\n",
    "\n",
    "# Definimos el generador de números pseudoaleatorios\n",
    "rng = np.random.default_rng(23)"
   ]
  },
  {
   "cell_type": "code",
   "execution_count": 4,
   "id": "507a8a16",
   "metadata": {},
   "outputs": [],
   "source": [
    "# Definimos la función que, dado un generador de números aleatorios, obtiene N coordenadas\n",
    "def obtener_coordenadas(rng_seed, numero_muestras):\n",
    "    x = rng_seed.uniform(0, table_width, size = numero_muestras)\n",
    "    y = rng_seed.uniform(0, table_height, size = numero_muestras)\n",
    "\n",
    "    return (x, y)"
   ]
  },
  {
   "cell_type": "code",
   "execution_count": 5,
   "id": "372e2382",
   "metadata": {},
   "outputs": [],
   "source": [
    "# Obtenemos un número N de coordenadas\n",
    "coordenadas = obtener_coordenadas(rng, N_muestras)\n"
   ]
  },
  {
   "cell_type": "markdown",
   "id": "9b1ff71c",
   "metadata": {},
   "source": [
    "### Ahora, realizaremos la simulación para cada una de las muestras.\n",
    "Es decir, comprobaremos si cada una de las coordenadas está contenida en el cuadrado, en el círculo, o en ninguna de las dos figuras"
   ]
  },
  {
   "cell_type": "code",
   "execution_count": 6,
   "id": "0b314b71",
   "metadata": {},
   "outputs": [],
   "source": [
    "# Definimos las coordenadas que se consideran dentro del cuadrado\n",
    "def dentro_cuadrado(x, y):\n",
    "\n",
    "    x_cuadrado, y_cuadrado = square_centre\n",
    "    x_limite_inferior_cuadrado = x_cuadrado - (a / 2)\n",
    "    x_limite_superior_cuadrado = x_cuadrado + (a / 2)\n",
    "    y_limite_inferior_cuadrado = y_cuadrado - (a / 2)\n",
    "    y_limite_superior_cuadrado = y_cuadrado + (a / 2)\n",
    "\n",
    "    return (x_limite_inferior_cuadrado < x < x_limite_superior_cuadrado) and (y_limite_inferior_cuadrado < y < y_limite_superior_cuadrado)"
   ]
  },
  {
   "cell_type": "code",
   "execution_count": 7,
   "id": "f0d7877a",
   "metadata": {},
   "outputs": [],
   "source": [
    "# Definimos las coordenadas que se consideran dentro del círculo\n",
    "def dentro_circulo(x, y):\n",
    "    \n",
    "    x_circulo, y_circulo = circle_centre\n",
    "    distancia_a_coordenada = (x - x_circulo)**2 + (y - y_circulo)**2\n",
    "\n",
    "    return (distancia_a_coordenada < a**2)"
   ]
  },
  {
   "cell_type": "code",
   "execution_count": 8,
   "id": "5627ad02",
   "metadata": {},
   "outputs": [],
   "source": [
    "def realizar_simulacion(coordenadas, N_muestras):\n",
    "    # Desglosamos las coordenadas\n",
    "    x, y = coordenadas\n",
    "\n",
    "    # Establecemos contadores para saber en que figura cae cada punto\n",
    "    puntos_cuadrado = 0\n",
    "    puntos_circulo  = 0\n",
    "\n",
    "    # Recorremos el array y sumamos al contador correspondiente\n",
    "    for i in range(N_muestras):\n",
    "        if (dentro_circulo(x[i], y[i])):\n",
    "            puntos_circulo += 1\n",
    "        if (dentro_cuadrado(x[i], y[i])):\n",
    "            puntos_cuadrado += 1\n",
    "\n",
    "    # Obtenemos pi: la proporcion de puntos dentro del círculo con respecto a los puntos dentro del cuadrado\n",
    "    resultado = puntos_circulo / puntos_cuadrado\n",
    "    return resultado"
   ]
  },
  {
   "cell_type": "markdown",
   "id": "d81d80b5",
   "metadata": {},
   "source": [
    "### Repetir el proceso\n",
    "De esta forma, tenemos definido el **experimento** a repetir. Ahora, debemos repetirlo un número significativo de veces para obtener resultados que podamos analizar."
   ]
  },
  {
   "cell_type": "code",
   "execution_count": 9,
   "id": "33f7923f",
   "metadata": {},
   "outputs": [],
   "source": [
    "def experimento(rng, N_muestras):\n",
    "    coordenadas = obtener_coordenadas(rng, N_muestras)\n",
    "    return realizar_simulacion(coordenadas, N_muestras)"
   ]
  },
  {
   "cell_type": "code",
   "execution_count": 10,
   "id": "8692ab99",
   "metadata": {},
   "outputs": [
    {
     "data": {
      "text/plain": [
       "3.1354551414272236"
      ]
     },
     "execution_count": 10,
     "metadata": {},
     "output_type": "execute_result"
    }
   ],
   "source": [
    "experimento(rng, N_muestras)"
   ]
  }
 ],
 "metadata": {
  "kernelspec": {
   "display_name": "Python 3 (ipykernel)",
   "language": "python",
   "name": "python3"
  },
  "language_info": {
   "codemirror_mode": {
    "name": "ipython",
    "version": 3
   },
   "file_extension": ".py",
   "mimetype": "text/x-python",
   "name": "python",
   "nbconvert_exporter": "python",
   "pygments_lexer": "ipython3",
   "version": "3.12.0"
  }
 },
 "nbformat": 4,
 "nbformat_minor": 5
}
