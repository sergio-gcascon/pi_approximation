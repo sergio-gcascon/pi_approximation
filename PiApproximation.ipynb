{
 "cells": [
  {
   "cell_type": "markdown",
   "id": "0275aee6-8939-49d3-be0d-c90b6d7ac417",
   "metadata": {},
   "source": [
    "# Estimación del número $\\pi$\n",
    "## Método Monte Carlo\n",
    "### Situación\n",
    "Nos encontramos ante una superficie de *40 cm X 80 cm* en la que se sitúan una sección cuadrada de lado _a_ y una sección circular de radio _a_."
   ]
  },
  {
   "cell_type": "markdown",
   "id": "5015cf30",
   "metadata": {},
   "source": [
    "### Parámetros relevantes del experimento:\n",
    "- Dimensiones de la superficie: _40cm X 80cm_.\n",
    "- Tamaño de las figuras, determinado por _a_.\n",
    "- Posición de cada punto sobre la superficie: _coordenadas x e y_."
   ]
  },
  {
   "cell_type": "code",
   "execution_count": 2,
   "id": "f9c99859",
   "metadata": {},
   "outputs": [],
   "source": [
    "# Dimensiones del tablero\n",
    "table_width = 80\n",
    "table_height = 40\n",
    "\n",
    "# a - radio del círculo y lado del cuadrado\n",
    "a = table_height / 2\n",
    "\n",
    "# Determinamos la posicion de las figuras en el tablero\n",
    "\n",
    "# Circulo centrado en el tercer cuarto de la anchura de la superficie\n",
    "circle_centre = (3 * (table_width / 4), table_height / 2)\n",
    "\n",
    "# Cuadrado centrado en el primer cuarto de la anchura de la superficie\n",
    "square_centre = (table_width / 4, table_height / 2)"
   ]
  },
  {
   "cell_type": "markdown",
   "id": "80a6e852",
   "metadata": {},
   "source": [
    "### Identificar las distribuciones de probabilidad de cada parámetro\n",
    "El parámetro que se ve afectado por la aleatoriedad en este experimento es la posición en la que cae el punto sobre la superficie. Es decir, las _coordenadas x e y_.\n",
    "\n",
    "Si tomamos las coordenadas como números de coma flotante, podemos interpretar que se tratan de **variables continuas**.\n",
    "\n",
    "Puesto que, tanto para _x_ como para _y_ todos los valores dentro del rango posible son equiprobables, nos hayamos ante un caso de **distribución uniforme**.\n",
    "- El rango que abarca la variable _x_ es un valor continuo en el intervalo de _0cm a 80cm_.\n",
    "- El rango que abarca la variable _y_ es un valor continuo en el intervalo de _0cm a 40cm_.\n"
   ]
  },
  {
   "cell_type": "markdown",
   "id": "57d608f5",
   "metadata": {},
   "source": [
    "### Ahora, debemos obtener muestras aleatorias de las distribuciones.\n",
    "Es decir, debemos obtener una cantidad significante de puntos con coordenadas _(x, y)_."
   ]
  },
  {
   "cell_type": "code",
   "execution_count": 3,
   "id": "c5c79a57",
   "metadata": {},
   "outputs": [],
   "source": [
    "import numpy as np"
   ]
  },
  {
   "cell_type": "code",
   "execution_count": 4,
   "id": "7c0baaf7",
   "metadata": {},
   "outputs": [],
   "source": [
    "# Definimos la cantidad de muestras que queremos obtener\n",
    "N_muestras = int(1e6)\n",
    "\n",
    "# Definimos el generador de números pseudoaleatorios\n",
    "rng = np.random.default_rng(23)"
   ]
  },
  {
   "cell_type": "code",
   "execution_count": 5,
   "id": "507a8a16",
   "metadata": {},
   "outputs": [],
   "source": [
    "# Definimos la función que, dado un generador de números aleatorios, obtiene N coordenadas\n",
    "def obtener_coordenadas(rng_seed, numero_muestras):\n",
    "    x = rng_seed.uniform(0, table_width, size = numero_muestras)\n",
    "    y = rng_seed.uniform(0, table_height, size = numero_muestras)\n",
    "\n",
    "    return (x, y)"
   ]
  },
  {
   "cell_type": "code",
   "execution_count": 6,
   "id": "372e2382",
   "metadata": {},
   "outputs": [],
   "source": [
    "# Obtenemos un número N de coordenadas\n",
    "coordenadas = obtener_coordenadas(rng, N_muestras)\n"
   ]
  },
  {
   "cell_type": "markdown",
   "id": "9b1ff71c",
   "metadata": {},
   "source": [
    "### Ahora, realizaremos la simulación para cada una de las muestras.\n",
    "Es decir, comprobaremos si cada una de las coordenadas está contenida en el cuadrado, en el círculo, o en ninguna de las dos figuras"
   ]
  },
  {
   "cell_type": "code",
   "execution_count": 7,
   "id": "0b314b71",
   "metadata": {},
   "outputs": [],
   "source": [
    "# Definimos las coordenadas que se consideran dentro del cuadrado\n",
    "def dentro_cuadrado(x, y, longitud_lado):\n",
    "\n",
    "    x_cuadrado, y_cuadrado = square_centre\n",
    "    x_limite_inferior_cuadrado = x_cuadrado - (longitud_lado / 2)\n",
    "    x_limite_superior_cuadrado = x_cuadrado + (longitud_lado / 2)\n",
    "    y_limite_inferior_cuadrado = y_cuadrado - (longitud_lado / 2)\n",
    "    y_limite_superior_cuadrado = y_cuadrado + (longitud_lado / 2)\n",
    "\n",
    "    return (x_limite_inferior_cuadrado < x < x_limite_superior_cuadrado) and (y_limite_inferior_cuadrado < y < y_limite_superior_cuadrado)"
   ]
  },
  {
   "cell_type": "code",
   "execution_count": 8,
   "id": "f0d7877a",
   "metadata": {},
   "outputs": [],
   "source": [
    "# Definimos las coordenadas que se consideran dentro del círculo\n",
    "def dentro_circulo(x, y, radio):\n",
    "    \n",
    "    x_circulo, y_circulo = circle_centre\n",
    "    distancia_a_coordenada = (x - x_circulo)**2 + (y - y_circulo)**2\n",
    "\n",
    "    return (distancia_a_coordenada < radio**2)"
   ]
  },
  {
   "cell_type": "code",
   "execution_count": 23,
   "id": "5627ad02",
   "metadata": {},
   "outputs": [],
   "source": [
    "def realizar_simulacion(coordenadas, N_muestras, magnitud_figuras):\n",
    "    # Desglosamos las coordenadas\n",
    "    x, y = coordenadas\n",
    "\n",
    "    # Establecemos contadores para saber en que figura cae cada punto\n",
    "    puntos_cuadrado = 0\n",
    "    puntos_circulo  = 0\n",
    "\n",
    "    # Recorremos el array y sumamos al contador correspondiente\n",
    "    for i in range(N_muestras):\n",
    "        if (dentro_circulo(x[i], y[i], magnitud_figuras)):\n",
    "            puntos_circulo += 1\n",
    "        if (dentro_cuadrado(x[i], y[i], magnitud_figuras)):\n",
    "            puntos_cuadrado += 1\n",
    "\n",
    "    # Obtenemos pi: la proporcion de puntos dentro del círculo con respecto a los puntos dentro del cuadrado\n",
    "    if puntos_cuadrado >= 1:        \n",
    "        resultado = puntos_circulo / puntos_cuadrado\n",
    "        return resultado\n",
    "    # Si no ha caído ningún punto en el cuadrado, no podemos realizar una estimación. Devolvemos cero\n",
    "    else:\n",
    "        return 0"
   ]
  },
  {
   "cell_type": "markdown",
   "id": "d81d80b5",
   "metadata": {},
   "source": [
    "### Repetir el proceso\n",
    "De esta forma, tenemos definido el **experimento** a repetir. Ahora, debemos repetirlo un número significativo de veces para obtener resultados que podamos analizar."
   ]
  },
  {
   "cell_type": "code",
   "execution_count": 24,
   "id": "33f7923f",
   "metadata": {},
   "outputs": [],
   "source": [
    "def experimento(rng, N_muestras, magnitud_figuras):\n",
    "    coordenadas = obtener_coordenadas(rng, N_muestras)\n",
    "    return realizar_simulacion(coordenadas, N_muestras, magnitud_figuras)"
   ]
  },
  {
   "cell_type": "code",
   "execution_count": 14,
   "id": "8692ab99",
   "metadata": {},
   "outputs": [
    {
     "data": {
      "text/plain": [
       "3.1354551414272236"
      ]
     },
     "execution_count": 14,
     "metadata": {},
     "output_type": "execute_result"
    }
   ],
   "source": [
    "experimento(rng, N_muestras, a)"
   ]
  },
  {
   "cell_type": "markdown",
   "id": "566c8815",
   "metadata": {},
   "source": [
    "# 1) Analizar la distribución resultante\n",
    "### Analizar los resultados\n",
    "Ahora, debemos repetir el experimento un número sustancial de veces para obtener datos que podamos analizar"
   ]
  },
  {
   "cell_type": "code",
   "execution_count": 15,
   "id": "b85a0129",
   "metadata": {},
   "outputs": [],
   "source": [
    "# Definimos el generador de números pseudoaleatorios\n",
    "rng = np.random.default_rng(18)"
   ]
  },
  {
   "cell_type": "code",
   "execution_count": 16,
   "id": "fdfb0840",
   "metadata": {},
   "outputs": [],
   "source": [
    "# Número de muestras aleatorias a obtener en cada repetición\n",
    "N_muestras = int(1e3)\n",
    "\n",
    "# Número de veces a repetir el experimento\n",
    "N_repeticiones = 1000\n",
    "\n",
    "# Guardamos los datos resultado de cada uno de los experimentos\n",
    "resultados = np.array([experimento(rng, N_muestras, a) for n in range(N_repeticiones)])"
   ]
  },
  {
   "cell_type": "markdown",
   "id": "a1fcc268",
   "metadata": {},
   "source": [
    "El primer análisis que podemos realizar, es calcular la media de los resultados obtenidos, ya que debería aproximarse más a $\\pi$ que un resultado individual."
   ]
  },
  {
   "cell_type": "code",
   "execution_count": 17,
   "id": "0dd87fd7",
   "metadata": {},
   "outputs": [
    {
     "name": "stdout",
     "output_type": "stream",
     "text": [
      "La media de los resultados es 3.1678639325014046\n"
     ]
    }
   ],
   "source": [
    "# Media de resultados\n",
    "media = resultados.mean()\n",
    "print(f\"La media de los resultados es {media}\")"
   ]
  },
  {
   "cell_type": "markdown",
   "id": "e50d5a06",
   "metadata": {},
   "source": [
    "Visualizamos los resultados"
   ]
  },
  {
   "cell_type": "code",
   "execution_count": null,
   "id": "17f0d086",
   "metadata": {},
   "outputs": [],
   "source": [
    "import seaborn as sns"
   ]
  },
  {
   "cell_type": "code",
   "execution_count": null,
   "id": "22acb6ae",
   "metadata": {},
   "outputs": [
    {
     "data": {
      "text/plain": [
       "<Axes: ylabel='Density'>"
      ]
     },
     "execution_count": 22,
     "metadata": {},
     "output_type": "execute_result"
    },
    {
     "data": {
      "image/png": "[encoded data removed]",
      "text/plain": [
       "<Figure size 640x480 with 1 Axes>"
      ]
     },
     "metadata": {},
     "output_type": "display_data"
    }
   ],
   "source": [
    "sns.kdeplot(resultados)\n"
   ]
  },
  {
   "cell_type": "markdown",
   "id": "ea7ded71",
   "metadata": {},
   "source": [
    "**3.1565...** no es una muy buena aproximación de $\\pi$. Sin cambiar ningún parámetro relevante del experimento, podemos mejorar esta aproximación de dos maneras:\n",
    "1. Aumentando el número de muestras que obtenemos en cada repetición.\n"
   ]
  },
  {
   "cell_type": "code",
   "execution_count": null,
   "id": "77561c11",
   "metadata": {},
   "outputs": [
    {
     "name": "stdout",
     "output_type": "stream",
     "text": [
      "La media de los resultados es 3.1427845879001888\n"
     ]
    },
    {
     "data": {
      "text/plain": [
       "<Axes: ylabel='Density'>"
      ]
     },
     "execution_count": 27,
     "metadata": {},
     "output_type": "execute_result"
    },
    {
     "data": {
      "image/png": "[encoded data removed]",
      "text/plain": [
       "<Figure size 640x480 with 1 Axes>"
      ]
     },
     "metadata": {},
     "output_type": "display_data"
    }
   ],
   "source": [
    "# Aumentamos las muestras de 1.000 a 1.000.000\n",
    "N_muestras_aumentadas = N_muestras * int(1e3)\n",
    "\n",
    "# Guardamos los datos resultado de cada uno de los experimentos\n",
    "resultados = np.array([experimento(rng, N_muestras_aumentadas, a) for n in range(N_repeticiones)])\n",
    "\n",
    "# Media de resultados\n",
    "media = resultados.mean()\n",
    "print(f\"La media de los resultados es {media}\")\n",
    "\n",
    "sns.kdeplot(resultados)"
   ]
  },
  {
   "cell_type": "markdown",
   "id": "c99e7c34",
   "metadata": {},
   "source": [
    "\n",
    "2. Aumentando el número de veces que repetimos el experimento. "
   ]
  },
  {
   "cell_type": "code",
   "execution_count": null,
   "id": "94b99025",
   "metadata": {},
   "outputs": [
    {
     "name": "stdout",
     "output_type": "stream",
     "text": [
      "La media de los resultados es 3.166167625791679\n"
     ]
    },
    {
     "data": {
      "text/plain": [
       "<Axes: ylabel='Density'>"
      ]
     },
     "execution_count": 34,
     "metadata": {},
     "output_type": "execute_result"
    },
    {
     "data": {
      "image/png": "[encoded data removed]",
      "text/plain": [
       "<Figure size 640x480 with 1 Axes>"
      ]
     },
     "metadata": {},
     "output_type": "display_data"
    }
   ],
   "source": [
    "# Aumentamos el número de repeticiones del experimento de 100 a 100.000\n",
    "N_repeticiones_aumentadas = N_repeticiones * int(1e3)\n",
    "\n",
    "# Guardamos los datos resultado de cada uno de los experimentos\n",
    "resultados = np.array([experimento(rng, N_muestras, a) for n in range(N_repeticiones_aumentadas)])\n",
    "\n",
    "# Media de resultados\n",
    "media = resultados.mean()\n",
    "print(f\"La media de los resultados es {media}\")\n",
    "\n",
    "sns.kdeplot(resultados)"
   ]
  },
  {
   "cell_type": "markdown",
   "id": "5ac0744f",
   "metadata": {},
   "source": [
    "### Analizando las medias obtenidas.\n",
    "Hemos probado a modificar dos pasos diferentes del método Monte Carlo para obtener resultados que se acerquen más a la esperanza (el número $\\pi$):\n",
    "1. Aumentar las muestras aleatorias\n",
    "2. Repetir más veces el experimento\n",
    "\n",
    "En ambos casos, el **número total de muestras simuladas es el mismo**:\n",
    "- _Muestras simuladas = Nº de muestras * Repeticiones del experimento_\n",
    "1. Muestras simuladas = 1.000.000 * 100 = 100.000.000\n",
    "2. Muestras simuladas = 1.000 * 100.000 = 100.000.000\n",
    "\n",
    "A pesar de ello, **los resultados que hemos obtenido son muy diferentes**:\n",
    "1. Media = 3.1427845879001888\n",
    "2. Media = 3.166661536908126\n",
    "\n",
    "\n",
    "### ¿A qué se debe esto?\n",
    "El experimento simula la distribución aleatoria de puntos sobre _toda la superficie_. El valor de $\\pi$ se extrae de la _relación entre los puntos que caen dentro del área del círculo y los que caen dentro del área del cuadrado_.\n",
    "- Área del círculo = $\\pi * a^2$\n",
    "- Área del cuadrado = $a^2$\n",
    "\n",
    "De esta forma, **las únicas muestras que nos aportan información son aquellas que caen dentro de una de las dos figuras**. Para poder sacar conclusiones de por qué aumentar las muestras aleatorias es más eficiente que aumentar las repeticiones del experimento, debemos _estudiar el parámetro **a**_"
   ]
  },
  {
   "cell_type": "markdown",
   "id": "8977d9c1",
   "metadata": {},
   "source": [
    "# 2) Estudiar el efecto del parámetro fijo _a_"
   ]
  },
  {
   "cell_type": "markdown",
   "id": "65a05039",
   "metadata": {},
   "source": [
    "Es intuitivo que, a mayor tamaño de las figuras, mayor probabilidad que bajo el mismo número de muestras, más puntos caigan en una de las dos figuras y por tanto nuestra estimación de $\\pi$ sea mejor.\n",
    "Para poder demostrarlo matemáticamente, podemos apoyarnos en la estadística.\n",
    "\n",
    "Los primeros experimentos los hemos realizado estableciendo _a_ como la mitad de la altura de la superficie. Esto se debe a que es el mayor valor que podemos establecer de radio del círculo y que se mantenga dentro de la superficie."
   ]
  },
  {
   "cell_type": "code",
   "execution_count": 25,
   "id": "0bdacbbb",
   "metadata": {},
   "outputs": [
    {
     "name": "stdout",
     "output_type": "stream",
     "text": [
      "La media de los resultados es 3.1581324059984484\n"
     ]
    }
   ],
   "source": [
    "# a - radio del círculo y lado del cuadrado\n",
    "a = table_height / 2\n",
    "\n",
    "# Número de muestras aleatorias a obtener en cada repetición\n",
    "N_muestras = int(1e3)\n",
    "\n",
    "# Número de veces a repetir el experimento\n",
    "N_repeticiones = 1000\n",
    "\n",
    "# Guardamos los datos resultado de cada uno de los experimentos\n",
    "resultados = np.array([experimento(rng, N_muestras, a) for n in range(N_repeticiones)])\n",
    "\n",
    "# Media de los resultados\n",
    "media = resultados.mean()\n",
    "print(f\"La media de los resultados es {media}\")"
   ]
  },
  {
   "cell_type": "code",
   "execution_count": 29,
   "id": "1af196ae",
   "metadata": {},
   "outputs": [],
   "source": [
    "# Creamos un array con diferentes tamaños para a, basandonos en el valor maximo que puede tomar\n",
    "a_array = np.array([a, a/2, a/3, a/4, a/5, a/6, a/7, a/8, a/9, a/10])\n",
    "\n",
    "medias = np.array([np.array([experimento(rng, N_muestras, a_value) for n in range(N_repeticiones)]).mean() for a_value in a_array])\n",
    "\n",
    "# Calculamos la diferencia del valor obtenido con el valor esperado\n",
    "diferencias = medias - np.pi"
   ]
  },
  {
   "cell_type": "code",
   "execution_count": 36,
   "id": "3fe3504d",
   "metadata": {},
   "outputs": [],
   "source": [
    "import matplotlib.pyplot as plt"
   ]
  },
  {
   "cell_type": "code",
   "execution_count": 43,
   "id": "3d4a5e3d",
   "metadata": {},
   "outputs": [
    {
     "data": {
      "text/plain": [
       "Text(0.5, 0, 'Longitud de a')"
      ]
     },
     "execution_count": 43,
     "metadata": {},
     "output_type": "execute_result"
    },
    {
     "data": {
      "image/png": "[encoded data removed]",
      "text/plain": [
       "<Figure size 640x480 with 1 Axes>"
      ]
     },
     "metadata": {},
     "output_type": "display_data"
    }
   ],
   "source": [
    "fig, ax = plt.subplots()\n",
    "ax.axhline(y = np.pi, c=\"firebrick\", linestyle=\"--\")\n",
    "ax.plot(a_array, medias)\n",
    "ax.set_ylabel(\"Estimación del valor Pi\")\n",
    "ax.set_xlabel(\"Longitud de a\")"
   ]
  },
  {
   "cell_type": "code",
   "execution_count": null,
   "id": "acd35e04",
   "metadata": {},
   "outputs": [],
   "source": []
  }
 ],
 "metadata": {
  "kernelspec": {
   "display_name": "Python 3 (ipykernel)",
   "language": "python",
   "name": "python3"
  },
  "language_info": {
   "codemirror_mode": {
    "name": "ipython",
    "version": 3
   },
   "file_extension": ".py",
   "mimetype": "text/x-python",
   "name": "python",
   "nbconvert_exporter": "python",
   "pygments_lexer": "ipython3",
   "version": "3.12.0"
  }
 },
 "nbformat": 4,
 "nbformat_minor": 5
}
